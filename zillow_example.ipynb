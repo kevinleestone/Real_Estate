{
 "cells": [
  {
   "cell_type": "code",
   "execution_count": 1,
   "metadata": {
    "collapsed": true
   },
   "outputs": [],
   "source": [
    "from pyzillow.pyzillow import ZillowWrapper, GetDeepSearchResults"
   ]
  },
  {
   "cell_type": "code",
   "execution_count": 4,
   "metadata": {
    "collapsed": true
   },
   "outputs": [],
   "source": [
    "key = 'X1-ZWz1f3zo3l3pjf_60bkd'\n",
    "address = '8682 New Salem St UNIT 154'\n",
    "zipcode = '92126'"
   ]
  },
  {
   "cell_type": "code",
   "execution_count": 42,
   "metadata": {
    "collapsed": false
   },
   "outputs": [
    {
     "ename": "TypeError",
     "evalue": "get_deep_search_results() got an unexpected keyword argument 'rentzestimate'",
     "output_type": "error",
     "traceback": [
      "\u001b[1;31m---------------------------------------------------------------------------\u001b[0m",
      "\u001b[1;31mTypeError\u001b[0m                                 Traceback (most recent call last)",
      "\u001b[1;32m<ipython-input-42-d0ef33cab587>\u001b[0m in \u001b[0;36m<module>\u001b[1;34m()\u001b[0m\n\u001b[0;32m      1\u001b[0m \u001b[0mzillow_data\u001b[0m \u001b[1;33m=\u001b[0m \u001b[0mZillowWrapper\u001b[0m\u001b[1;33m(\u001b[0m\u001b[0mkey\u001b[0m\u001b[1;33m)\u001b[0m\u001b[1;33m\u001b[0m\u001b[0m\n\u001b[1;32m----> 2\u001b[1;33m \u001b[0mdeep_search_response\u001b[0m \u001b[1;33m=\u001b[0m \u001b[0mzillow_data\u001b[0m\u001b[1;33m.\u001b[0m\u001b[0mget_deep_search_results\u001b[0m\u001b[1;33m(\u001b[0m\u001b[0maddress\u001b[0m\u001b[1;33m,\u001b[0m \u001b[0mzipcode\u001b[0m\u001b[1;33m,\u001b[0m \u001b[0mrentzestimate\u001b[0m \u001b[1;33m=\u001b[0m \u001b[0mTrue\u001b[0m\u001b[1;33m)\u001b[0m\u001b[1;33m\u001b[0m\u001b[0m\n\u001b[0m\u001b[0;32m      3\u001b[0m \u001b[0mresult\u001b[0m \u001b[1;33m=\u001b[0m \u001b[0mGetDeepSearchResults\u001b[0m\u001b[1;33m(\u001b[0m\u001b[0mdeep_search_response\u001b[0m\u001b[1;33m)\u001b[0m\u001b[1;33m\u001b[0m\u001b[0m\n",
      "\u001b[1;31mTypeError\u001b[0m: get_deep_search_results() got an unexpected keyword argument 'rentzestimate'"
     ]
    }
   ],
   "source": [
    "zillow_data = ZillowWrapper(key)\n",
    "deep_search_response = zillow_data.get_deep_search_results(address, zipcode) \n",
    "result = GetDeepSearchResults(deep_search_response)"
   ]
  },
  {
   "cell_type": "code",
   "execution_count": 16,
   "metadata": {
    "collapsed": false
   },
   "outputs": [
    {
     "data": {
      "text/plain": [
       "'16788248'"
      ]
     },
     "execution_count": 16,
     "metadata": {},
     "output_type": "execute_result"
    }
   ],
   "source": [
    "result.zillow_id"
   ]
  },
  {
   "cell_type": "code",
   "execution_count": 17,
   "metadata": {
    "collapsed": false
   },
   "outputs": [
    {
     "data": {
      "text/plain": [
       "'Condominium'"
      ]
     },
     "execution_count": 17,
     "metadata": {},
     "output_type": "execute_result"
    }
   ],
   "source": [
    "result.home_type"
   ]
  },
  {
   "cell_type": "code",
   "execution_count": 18,
   "metadata": {
    "collapsed": false
   },
   "outputs": [
    {
     "data": {
      "text/plain": [
       "'http://www.zillow.com/homedetails/8682-New-Salem-St-UNIT-154-San-Diego-CA-92126/16788248_zpid/'"
      ]
     },
     "execution_count": 18,
     "metadata": {},
     "output_type": "execute_result"
    }
   ],
   "source": [
    "result.home_detail_link"
   ]
  },
  {
   "cell_type": "code",
   "execution_count": 19,
   "metadata": {
    "collapsed": false
   },
   "outputs": [
    {
     "data": {
      "text/plain": [
       "'http://www.zillow.com/homedetails/8682-New-Salem-St-UNIT-154-San-Diego-CA-92126/16788248_zpid/#charts-and-data'"
      ]
     },
     "execution_count": 19,
     "metadata": {},
     "output_type": "execute_result"
    }
   ],
   "source": [
    "result.graph_data_link"
   ]
  },
  {
   "cell_type": "code",
   "execution_count": 21,
   "metadata": {
    "collapsed": false
   },
   "outputs": [
    {
     "data": {
      "text/plain": [
       "'2014'"
      ]
     },
     "execution_count": 21,
     "metadata": {},
     "output_type": "execute_result"
    }
   ],
   "source": [
    "result.tax_year"
   ]
  },
  {
   "cell_type": "code",
   "execution_count": 22,
   "metadata": {
    "collapsed": false
   },
   "outputs": [
    {
     "data": {
      "text/plain": [
       "'146553.0'"
      ]
     },
     "execution_count": 22,
     "metadata": {},
     "output_type": "execute_result"
    }
   ],
   "source": [
    "result.tax_value"
   ]
  },
  {
   "cell_type": "code",
   "execution_count": 23,
   "metadata": {
    "collapsed": false
   },
   "outputs": [
    {
     "data": {
      "text/plain": [
       "'1992'"
      ]
     },
     "execution_count": 23,
     "metadata": {},
     "output_type": "execute_result"
    }
   ],
   "source": [
    "result.year_built"
   ]
  },
  {
   "cell_type": "code",
   "execution_count": 25,
   "metadata": {
    "collapsed": false
   },
   "outputs": [
    {
     "name": "stdout",
     "output_type": "stream",
     "text": [
      "None\n"
     ]
    }
   ],
   "source": [
    "print result.property_size"
   ]
  },
  {
   "cell_type": "code",
   "execution_count": 27,
   "metadata": {
    "collapsed": false
   },
   "outputs": [
    {
     "data": {
      "text/plain": [
       "'831'"
      ]
     },
     "execution_count": 27,
     "metadata": {},
     "output_type": "execute_result"
    }
   ],
   "source": [
    "result.home_size"
   ]
  },
  {
   "cell_type": "code",
   "execution_count": 28,
   "metadata": {
    "collapsed": false
   },
   "outputs": [
    {
     "data": {
      "text/plain": [
       "'2.0'"
      ]
     },
     "execution_count": 28,
     "metadata": {},
     "output_type": "execute_result"
    }
   ],
   "source": [
    "result.bathrooms"
   ]
  },
  {
   "cell_type": "code",
   "execution_count": 29,
   "metadata": {
    "collapsed": false
   },
   "outputs": [
    {
     "data": {
      "text/plain": [
       "'2'"
      ]
     },
     "execution_count": 29,
     "metadata": {},
     "output_type": "execute_result"
    }
   ],
   "source": [
    "result.bedrooms"
   ]
  },
  {
   "cell_type": "code",
   "execution_count": 32,
   "metadata": {
    "collapsed": false
   },
   "outputs": [
    {
     "data": {
      "text/plain": [
       "'01/05/2016'"
      ]
     },
     "execution_count": 32,
     "metadata": {},
     "output_type": "execute_result"
    }
   ],
   "source": [
    "result.zestimate_last_updated"
   ]
  },
  {
   "cell_type": "code",
   "execution_count": 33,
   "metadata": {
    "collapsed": false
   },
   "outputs": [
    {
     "data": {
      "text/plain": [
       "'287013'"
      ]
     },
     "execution_count": 33,
     "metadata": {},
     "output_type": "execute_result"
    }
   ],
   "source": [
    "result.zestimate_amount"
   ]
  },
  {
   "cell_type": "code",
   "execution_count": 36,
   "metadata": {
    "collapsed": false
   },
   "outputs": [
    {
     "data": {
      "text/plain": [
       "'301364'"
      ]
     },
     "execution_count": 36,
     "metadata": {},
     "output_type": "execute_result"
    }
   ],
   "source": [
    "result.zestimate_valuation_range_high"
   ]
  },
  {
   "cell_type": "code",
   "execution_count": 38,
   "metadata": {
    "collapsed": false
   },
   "outputs": [
    {
     "data": {
      "text/plain": [
       "'272662'"
      ]
     },
     "execution_count": 38,
     "metadata": {},
     "output_type": "execute_result"
    }
   ],
   "source": [
    "result.zestimate_valuationRange_low"
   ]
  },
  {
   "cell_type": "code",
   "execution_count": 41,
   "metadata": {
    "collapsed": false
   },
   "outputs": [
    {
     "data": {
      "text/plain": [
       "<pyzillow.pyzillow.GetDeepSearchResults at 0x38aaf28>"
      ]
     },
     "execution_count": 41,
     "metadata": {},
     "output_type": "execute_result"
    }
   ],
   "source": [
    "result"
   ]
  },
  {
   "cell_type": "code",
   "execution_count": 41,
   "metadata": {
    "collapsed": false
   },
   "outputs": [
    {
     "data": {
      "text/plain": [
       "<pyzillow.pyzillow.GetDeepSearchResults at 0x38aaf28>"
      ]
     },
     "execution_count": 41,
     "metadata": {},
     "output_type": "execute_result"
    }
   ],
   "source": [
    "result"
   ]
  },
  {
   "cell_type": "code",
   "execution_count": 47,
   "metadata": {
    "collapsed": true
   },
   "outputs": [],
   "source": [
    "import urllib2\n",
    "import json"
   ]
  },
  {
   "cell_type": "code",
   "execution_count": 54,
   "metadata": {
    "collapsed": false
   },
   "outputs": [
    {
     "ename": "NameError",
     "evalue": "name 'render_to_response' is not defined",
     "output_type": "error",
     "traceback": [
      "\u001b[1;31m---------------------------------------------------------------------------\u001b[0m",
      "\u001b[1;31mNameError\u001b[0m                                 Traceback (most recent call last)",
      "\u001b[1;32m<ipython-input-54-9b92c534c0bc>\u001b[0m in \u001b[0;36m<module>\u001b[1;34m()\u001b[0m\n\u001b[0;32m      8\u001b[0m \u001b[1;33m\u001b[0m\u001b[0m\n\u001b[0;32m      9\u001b[0m \u001b[0mdata\u001b[0m \u001b[1;33m=\u001b[0m \u001b[0mxmltodict\u001b[0m\u001b[1;33m.\u001b[0m\u001b[0mparse\u001b[0m\u001b[1;33m(\u001b[0m\u001b[0mdata\u001b[0m\u001b[1;33m)\u001b[0m\u001b[1;33m\u001b[0m\u001b[0m\n\u001b[1;32m---> 10\u001b[1;33m \u001b[0mtest\u001b[0m \u001b[1;33m=\u001b[0m \u001b[0mrender_to_response\u001b[0m\u001b[1;33m(\u001b[0m\u001b[1;34m'my_template.html'\u001b[0m\u001b[1;33m,\u001b[0m \u001b[1;33m{\u001b[0m\u001b[1;34m'data'\u001b[0m\u001b[1;33m:\u001b[0m \u001b[0mdata\u001b[0m\u001b[1;33m}\u001b[0m\u001b[1;33m)\u001b[0m\u001b[1;33m\u001b[0m\u001b[0m\n\u001b[0m",
      "\u001b[1;31mNameError\u001b[0m: name 'render_to_response' is not defined"
     ]
    }
   ],
   "source": [
    "import urllib2\n",
    "import xmltodict\n",
    "\n",
    "\n",
    "file = urllib2.urlopen('http://www.zillow.com/webservice/GetDeepSearchResults.htm?zws-id=X1-ZWz1f3zo3l3pjf_60bkd&address=2114+Bigelow+Ave&citystatezip=Seattle%2C+WA')\n",
    "data = file.read()\n",
    "file.close()\n",
    "\n",
    "data = xmltodict.parse(data)\n",
    "test = render_to_response('my_template.html', {'data': data})\n"
   ]
  },
  {
   "cell_type": "code",
   "execution_count": 59,
   "metadata": {
    "collapsed": false
   },
   "outputs": [
    {
     "data": {
      "text/plain": [
       "OrderedDict([(u'SearchResults:searchresults', OrderedDict([(u'@xsi:schemaLocation', u'http://www.zillow.com/static/xsd/SearchResults.xsd http://www.zillowstatic.com/vstatic/fb78708/static/xsd/SearchResults.xsd'), (u'@xmlns:xsi', u'http://www.w3.org/2001/XMLSchema-instance'), (u'@xmlns:SearchResults', u'http://www.zillow.com/static/xsd/SearchResults.xsd'), (u'request', OrderedDict([(u'address', u'2114 Bigelow Ave'), (u'citystatezip', u'Seattle, WA')])), (u'message', OrderedDict([(u'text', u'Request successfully processed'), (u'code', u'0')])), (u'response', OrderedDict([(u'results', OrderedDict([(u'result', OrderedDict([(u'zpid', u'48749425'), (u'links', OrderedDict([(u'homedetails', u'http://www.zillow.com/homedetails/2114-Bigelow-Ave-N-Seattle-WA-98109/48749425_zpid/'), (u'graphsanddata', u'http://www.zillow.com/homedetails/2114-Bigelow-Ave-N-Seattle-WA-98109/48749425_zpid/#charts-and-data'), (u'mapthishome', u'http://www.zillow.com/homes/48749425_zpid/'), (u'comparables', u'http://www.zillow.com/homes/comps/48749425_zpid/')])), (u'address', OrderedDict([(u'street', u'2114 Bigelow Ave N'), (u'zipcode', u'98109'), (u'city', u'Seattle'), (u'state', u'WA'), (u'latitude', u'47.637933'), (u'longitude', u'-122.347938')])), (u'FIPScounty', u'53033'), (u'useCode', u'SingleFamily'), (u'taxAssessmentYear', u'2014'), (u'taxAssessment', u'1060000.0'), (u'yearBuilt', u'1924'), (u'lotSizeSqFt', u'4680'), (u'finishedSqFt', u'3470'), (u'bathrooms', u'3.0'), (u'bedrooms', u'4'), (u'lastSoldDate', u'11/26/2008'), (u'lastSoldPrice', OrderedDict([(u'@currency', u'USD'), ('#text', u'1025000')])), (u'zestimate', OrderedDict([(u'amount', OrderedDict([(u'@currency', u'USD'), ('#text', u'1416325')])), (u'last-updated', u'01/05/2016'), (u'oneWeekChange', OrderedDict([(u'@deprecated', u'true')])), (u'valueChange', OrderedDict([(u'@duration', u'30'), (u'@currency', u'USD'), ('#text', u'-270')])), (u'valuationRange', OrderedDict([(u'low', OrderedDict([(u'@currency', u'USD'), ('#text', u'1331345')])), (u'high', OrderedDict([(u'@currency', u'USD'), ('#text', u'1501305')]))])), (u'percentile', u'0')])), (u'localRealEstate', OrderedDict([(u'region', OrderedDict([(u'@name', u'East Queen Anne'), (u'@id', u'271856'), (u'@type', u'neighborhood'), (u'zindexValue', u'610,300'), (u'links', OrderedDict([(u'overview', u'http://www.zillow.com/local-info/WA-Seattle/East-Queen-Anne/r_271856/'), (u'forSaleByOwner', u'http://www.zillow.com/east-queen-anne-seattle-wa/fsbo/'), (u'forSale', u'http://www.zillow.com/east-queen-anne-seattle-wa/')]))]))]))]))]))]))]))])"
      ]
     },
     "execution_count": 59,
     "metadata": {},
     "output_type": "execute_result"
    }
   ],
   "source": [
    "data"
   ]
  },
  {
   "cell_type": "code",
   "execution_count": 71,
   "metadata": {
    "collapsed": false
   },
   "outputs": [],
   "source": [
    "data1 = data['SearchResults:searchresults']"
   ]
  },
  {
   "cell_type": "code",
   "execution_count": 72,
   "metadata": {
    "collapsed": false
   },
   "outputs": [
    {
     "data": {
      "text/plain": [
       "OrderedDict([(u'@xsi:schemaLocation', u'http://www.zillow.com/static/xsd/SearchResults.xsd http://www.zillowstatic.com/vstatic/fb78708/static/xsd/SearchResults.xsd'), (u'@xmlns:xsi', u'http://www.w3.org/2001/XMLSchema-instance'), (u'@xmlns:SearchResults', u'http://www.zillow.com/static/xsd/SearchResults.xsd'), (u'request', OrderedDict([(u'address', u'2114 Bigelow Ave'), (u'citystatezip', u'Seattle, WA')])), (u'message', OrderedDict([(u'text', u'Request successfully processed'), (u'code', u'0')])), (u'response', OrderedDict([(u'results', OrderedDict([(u'result', OrderedDict([(u'zpid', u'48749425'), (u'links', OrderedDict([(u'homedetails', u'http://www.zillow.com/homedetails/2114-Bigelow-Ave-N-Seattle-WA-98109/48749425_zpid/'), (u'graphsanddata', u'http://www.zillow.com/homedetails/2114-Bigelow-Ave-N-Seattle-WA-98109/48749425_zpid/#charts-and-data'), (u'mapthishome', u'http://www.zillow.com/homes/48749425_zpid/'), (u'comparables', u'http://www.zillow.com/homes/comps/48749425_zpid/')])), (u'address', OrderedDict([(u'street', u'2114 Bigelow Ave N'), (u'zipcode', u'98109'), (u'city', u'Seattle'), (u'state', u'WA'), (u'latitude', u'47.637933'), (u'longitude', u'-122.347938')])), (u'FIPScounty', u'53033'), (u'useCode', u'SingleFamily'), (u'taxAssessmentYear', u'2014'), (u'taxAssessment', u'1060000.0'), (u'yearBuilt', u'1924'), (u'lotSizeSqFt', u'4680'), (u'finishedSqFt', u'3470'), (u'bathrooms', u'3.0'), (u'bedrooms', u'4'), (u'lastSoldDate', u'11/26/2008'), (u'lastSoldPrice', OrderedDict([(u'@currency', u'USD'), ('#text', u'1025000')])), (u'zestimate', OrderedDict([(u'amount', OrderedDict([(u'@currency', u'USD'), ('#text', u'1416325')])), (u'last-updated', u'01/05/2016'), (u'oneWeekChange', OrderedDict([(u'@deprecated', u'true')])), (u'valueChange', OrderedDict([(u'@duration', u'30'), (u'@currency', u'USD'), ('#text', u'-270')])), (u'valuationRange', OrderedDict([(u'low', OrderedDict([(u'@currency', u'USD'), ('#text', u'1331345')])), (u'high', OrderedDict([(u'@currency', u'USD'), ('#text', u'1501305')]))])), (u'percentile', u'0')])), (u'localRealEstate', OrderedDict([(u'region', OrderedDict([(u'@name', u'East Queen Anne'), (u'@id', u'271856'), (u'@type', u'neighborhood'), (u'zindexValue', u'610,300'), (u'links', OrderedDict([(u'overview', u'http://www.zillow.com/local-info/WA-Seattle/East-Queen-Anne/r_271856/'), (u'forSaleByOwner', u'http://www.zillow.com/east-queen-anne-seattle-wa/fsbo/'), (u'forSale', u'http://www.zillow.com/east-queen-anne-seattle-wa/')]))]))]))]))]))]))])"
      ]
     },
     "execution_count": 72,
     "metadata": {},
     "output_type": "execute_result"
    }
   ],
   "source": [
    "data1"
   ]
  },
  {
   "cell_type": "code",
   "execution_count": 73,
   "metadata": {
    "collapsed": false
   },
   "outputs": [
    {
     "data": {
      "text/plain": [
       "OrderedDict([(u'address', u'2114 Bigelow Ave'), (u'citystatezip', u'Seattle, WA')])"
      ]
     },
     "execution_count": 73,
     "metadata": {},
     "output_type": "execute_result"
    }
   ],
   "source": [
    "data1['request']"
   ]
  },
  {
   "cell_type": "code",
   "execution_count": 80,
   "metadata": {
    "collapsed": false
   },
   "outputs": [
    {
     "data": {
      "text/plain": [
       "OrderedDict([(u'@currency', u'USD'), ('#text', u'1416325')])"
      ]
     },
     "execution_count": 80,
     "metadata": {},
     "output_type": "execute_result"
    }
   ],
   "source": [
    "data1['response']['results']['result']['local"
   ]
  }
 ],
 "metadata": {
  "kernelspec": {
   "display_name": "Python 2",
   "language": "python",
   "name": "python2"
  },
  "language_info": {
   "codemirror_mode": {
    "name": "ipython",
    "version": 2
   },
   "file_extension": ".py",
   "mimetype": "text/x-python",
   "name": "python",
   "nbconvert_exporter": "python",
   "pygments_lexer": "ipython2",
   "version": "2.7.7"
  }
 },
 "nbformat": 4,
 "nbformat_minor": 0
}
