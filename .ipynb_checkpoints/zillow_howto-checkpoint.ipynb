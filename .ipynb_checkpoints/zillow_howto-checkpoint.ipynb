{
 "cells": [
  {
   "cell_type": "markdown",
   "metadata": {},
   "source": [
    "# How to pull xml from url into dict: "
   ]
  },
  {
   "cell_type": "code",
   "execution_count": 133,
   "metadata": {
    "collapsed": true
   },
   "outputs": [],
   "source": [
    "import urllib2\n",
    "import json\n",
    "import xmltodict\n",
    "import pprint\n",
    "import webbrowser\n",
    "from IPython.core.display import HTML"
   ]
  },
  {
   "cell_type": "code",
   "execution_count": 88,
   "metadata": {
    "collapsed": false
   },
   "outputs": [],
   "source": [
    "# Prints nested dicts\n",
    "def pretty(d, indent=0):\n",
    "   for key, value in d.iteritems():\n",
    "      print '\\t' * indent + str(key)\n",
    "      if isinstance(value, dict):\n",
    "         pretty(value, indent+1)\n",
    "      else:\n",
    "         print '\\t' * (indent+1) + str(value)"
   ]
  },
  {
   "cell_type": "code",
   "execution_count": 44,
   "metadata": {
    "collapsed": false,
    "scrolled": true
   },
   "outputs": [
    {
     "name": "stdout",
     "output_type": "stream",
     "text": [
      "SearchResults:searchresults\n",
      "\t@xsi:schemaLocation\n",
      "\t\thttp://www.zillow.com/static/xsd/SearchResults.xsd http://www.zillowstatic.com/vstatic/272e7d3/static/xsd/SearchResults.xsd\n",
      "\t@xmlns:xsi\n",
      "\t\thttp://www.w3.org/2001/XMLSchema-instance\n",
      "\t@xmlns:SearchResults\n",
      "\t\thttp://www.zillow.com/static/xsd/SearchResults.xsd\n",
      "\trequest\n",
      "\t\taddress\n",
      "\t\t\t8332 Regents Rd UNIT 2B\n",
      "\t\tcitystatezip\n",
      "\t\t\t92122\n",
      "\tmessage\n",
      "\t\ttext\n",
      "\t\t\tRequest successfully processed\n",
      "\t\tcode\n",
      "\t\t\t0\n",
      "\tresponse\n",
      "\t\tresults\n",
      "\t\t\tresult\n",
      "\t\t\t\tzpid\n",
      "\t\t\t\t\t16836479\n",
      "\t\t\t\tlinks\n",
      "\t\t\t\t\thomedetails\n",
      "\t\t\t\t\t\thttp://www.zillow.com/homedetails/8332-Regents-Rd-UNIT-2B-San-Diego-CA-92122/16836479_zpid/\n",
      "\t\t\t\t\tgraphsanddata\n",
      "\t\t\t\t\t\thttp://www.zillow.com/homedetails/8332-Regents-Rd-UNIT-2B-San-Diego-CA-92122/16836479_zpid/#charts-and-data\n",
      "\t\t\t\t\tmapthishome\n",
      "\t\t\t\t\t\thttp://www.zillow.com/homes/16836479_zpid/\n",
      "\t\t\t\t\tcomparables\n",
      "\t\t\t\t\t\thttp://www.zillow.com/homes/comps/16836479_zpid/\n",
      "\t\t\t\taddress\n",
      "\t\t\t\t\tstreet\n",
      "\t\t\t\t\t\t8332 Regents Rd UNIT 2B\n",
      "\t\t\t\t\tzipcode\n",
      "\t\t\t\t\t\t92122\n",
      "\t\t\t\t\tcity\n",
      "\t\t\t\t\t\tSan Diego\n",
      "\t\t\t\t\tstate\n",
      "\t\t\t\t\t\tCA\n",
      "\t\t\t\t\tlatitude\n",
      "\t\t\t\t\t\t32.866492\n",
      "\t\t\t\t\tlongitude\n",
      "\t\t\t\t\t\t-117.222085\n",
      "\t\t\t\tFIPScounty\n",
      "\t\t\t\t\t6073\n",
      "\t\t\t\tuseCode\n",
      "\t\t\t\t\tCondominium\n",
      "\t\t\t\ttaxAssessmentYear\n",
      "\t\t\t\t\t2015\n",
      "\t\t\t\ttaxAssessment\n",
      "\t\t\t\t\t281602.0\n",
      "\t\t\t\tyearBuilt\n",
      "\t\t\t\t\t1981\n",
      "\t\t\t\tlotSizeSqFt\n",
      "\t\t\t\t\t43560\n",
      "\t\t\t\tfinishedSqFt\n",
      "\t\t\t\t\t1054\n",
      "\t\t\t\tbathrooms\n",
      "\t\t\t\t\t2.0\n",
      "\t\t\t\tbedrooms\n",
      "\t\t\t\t\t2\n",
      "\t\t\t\tlastSoldDate\n",
      "\t\t\t\t\t05/09/2002\n",
      "\t\t\t\tlastSoldPrice\n",
      "\t\t\t\t\t@currency\n",
      "\t\t\t\t\t\tUSD\n",
      "\t\t\t\t\t#text\n",
      "\t\t\t\t\t\t229500\n",
      "\t\t\t\tzestimate\n",
      "\t\t\t\t\tamount\n",
      "\t\t\t\t\t\t@currency\n",
      "\t\t\t\t\t\t\tUSD\n",
      "\t\t\t\t\t\t#text\n",
      "\t\t\t\t\t\t\t342452\n",
      "\t\t\t\t\tlast-updated\n",
      "\t\t\t\t\t\t01/22/2016\n",
      "\t\t\t\t\toneWeekChange\n",
      "\t\t\t\t\t\t@deprecated\n",
      "\t\t\t\t\t\t\ttrue\n",
      "\t\t\t\t\tvalueChange\n",
      "\t\t\t\t\t\t@duration\n",
      "\t\t\t\t\t\t\t30\n",
      "\t\t\t\t\t\t@currency\n",
      "\t\t\t\t\t\t\tUSD\n",
      "\t\t\t\t\t\t#text\n",
      "\t\t\t\t\t\t\t-1052\n",
      "\t\t\t\t\tvaluationRange\n",
      "\t\t\t\t\t\tlow\n",
      "\t\t\t\t\t\t\t@currency\n",
      "\t\t\t\t\t\t\t\tUSD\n",
      "\t\t\t\t\t\t\t#text\n",
      "\t\t\t\t\t\t\t\t325329\n",
      "\t\t\t\t\t\thigh\n",
      "\t\t\t\t\t\t\t@currency\n",
      "\t\t\t\t\t\t\t\tUSD\n",
      "\t\t\t\t\t\t\t#text\n",
      "\t\t\t\t\t\t\t\t359575\n",
      "\t\t\t\t\tpercentile\n",
      "\t\t\t\t\t\t0\n",
      "\t\t\t\tlocalRealEstate\n",
      "\t\t\t\t\tregion\n",
      "\t\t\t\t\t\t@name\n",
      "\t\t\t\t\t\t\tUniversity City\n",
      "\t\t\t\t\t\t@id\n",
      "\t\t\t\t\t\t\t118673\n",
      "\t\t\t\t\t\t@type\n",
      "\t\t\t\t\t\t\tneighborhood\n",
      "\t\t\t\t\t\tzindexValue\n",
      "\t\t\t\t\t\t\t534,000\n",
      "\t\t\t\t\t\tlinks\n",
      "\t\t\t\t\t\t\toverview\n",
      "\t\t\t\t\t\t\t\thttp://www.zillow.com/local-info/CA-San-Diego/University-City/r_118673/\n",
      "\t\t\t\t\t\t\tforSaleByOwner\n",
      "\t\t\t\t\t\t\t\thttp://www.zillow.com/university-city-san-diego-ca/fsbo/\n",
      "\t\t\t\t\t\t\tforSale\n",
      "\t\t\t\t\t\t\t\thttp://www.zillow.com/university-city-san-diego-ca/\n"
     ]
    }
   ],
   "source": [
    "pretty(data, indent = 0)"
   ]
  },
  {
   "cell_type": "code",
   "execution_count": 115,
   "metadata": {
    "collapsed": true
   },
   "outputs": [],
   "source": [
    "zws_id = 'X1-ZWz1f3zo3l3pjf_60bkd' # zillow webservice id"
   ]
  },
  {
   "cell_type": "markdown",
   "metadata": {},
   "source": [
    "## GetDeepSearch"
   ]
  },
  {
   "cell_type": "markdown",
   "metadata": {},
   "source": [
    "1. Link to plots\n",
    "2. Home Type\n",
    "3. Tax Assessment Year\n",
    "4. Tax Assessment\n",
    "5. Bedrooms\n",
    "6. Bathrooms\n",
    "7. zEstimate\n",
    "8. Low Estimate\n",
    "9. High Estimate\n",
    "10. Rent zEstimate\n",
    "11. Low Rent\n",
    "12. High Rent"
   ]
  },
  {
   "cell_type": "code",
   "execution_count": 29,
   "metadata": {
    "collapsed": false
   },
   "outputs": [],
   "source": [
    "#webbrowser.open('http://www.zillow.com/howto/api/GetDeepSearchResults.htm')"
   ]
  },
  {
   "cell_type": "code",
   "execution_count": 34,
   "metadata": {
    "collapsed": false,
    "scrolled": true
   },
   "outputs": [],
   "source": [
    "\n",
    "#HTML('http://www.zillow.com/howto/api/GetDeepSearchResults.htm')"
   ]
  },
  {
   "cell_type": "code",
   "execution_count": 136,
   "metadata": {
    "collapsed": true
   },
   "outputs": [],
   "source": [
    "address = '8332 Regents Rd UNIT 2B'.replace(' ','+')\n",
    "city = 'San Diego'\n",
    "state = 'CA'\n",
    "zip_code = '92122'\n",
    "link = 'http://www.zillow.com/webservice/GetDeepSearchResults.htm?zws-id=%s&address=%s&citystatezip=%s&rentzestimate=True'%(zws_id,address,zip_code)"
   ]
  },
  {
   "cell_type": "code",
   "execution_count": 137,
   "metadata": {
    "collapsed": true
   },
   "outputs": [],
   "source": [
    "file = urllib2.urlopen(link)\n",
    "#file = urllib2.urlopen('http://www.zillow.com/webservice/GetDeepSearchResults.htm?zws-id=X1-ZWz1f3zo3l3pjf_60bkd&address=2114+Bigelow+Ave&citystatezip=Seattle%2C+WA')\n",
    "data = file.read()\n",
    "file.close()\n",
    "\n",
    "data = xmltodict.parse(data)"
   ]
  },
  {
   "cell_type": "code",
   "execution_count": 138,
   "metadata": {
    "collapsed": false,
    "scrolled": false
   },
   "outputs": [
    {
     "name": "stdout",
     "output_type": "stream",
     "text": [
      "SearchResults:searchresults\n",
      "\t@xsi:schemaLocation\n",
      "\t\thttp://www.zillow.com/static/xsd/SearchResults.xsd http://www.zillowstatic.com/vstatic/272e7d3/static/xsd/SearchResults.xsd\n",
      "\t@xmlns:xsi\n",
      "\t\thttp://www.w3.org/2001/XMLSchema-instance\n",
      "\t@xmlns:SearchResults\n",
      "\t\thttp://www.zillow.com/static/xsd/SearchResults.xsd\n",
      "\trequest\n",
      "\t\taddress\n",
      "\t\t\t8332 Regents Rd UNIT 2B\n",
      "\t\tcitystatezip\n",
      "\t\t\t92122\n",
      "\tmessage\n",
      "\t\ttext\n",
      "\t\t\tRequest successfully processed\n",
      "\t\tcode\n",
      "\t\t\t0\n",
      "\tresponse\n",
      "\t\tresults\n",
      "\t\t\tresult\n",
      "\t\t\t\tzpid\n",
      "\t\t\t\t\t16836479\n",
      "\t\t\t\tlinks\n",
      "\t\t\t\t\thomedetails\n",
      "\t\t\t\t\t\thttp://www.zillow.com/homedetails/8332-Regents-Rd-UNIT-2B-San-Diego-CA-92122/16836479_zpid/\n",
      "\t\t\t\t\tgraphsanddata\n",
      "\t\t\t\t\t\thttp://www.zillow.com/homedetails/8332-Regents-Rd-UNIT-2B-San-Diego-CA-92122/16836479_zpid/#charts-and-data\n",
      "\t\t\t\t\tmapthishome\n",
      "\t\t\t\t\t\thttp://www.zillow.com/homes/16836479_zpid/\n",
      "\t\t\t\t\tcomparables\n",
      "\t\t\t\t\t\thttp://www.zillow.com/homes/comps/16836479_zpid/\n",
      "\t\t\t\taddress\n",
      "\t\t\t\t\tstreet\n",
      "\t\t\t\t\t\t8332 Regents Rd UNIT 2B\n",
      "\t\t\t\t\tzipcode\n",
      "\t\t\t\t\t\t92122\n",
      "\t\t\t\t\tcity\n",
      "\t\t\t\t\t\tSan Diego\n",
      "\t\t\t\t\tstate\n",
      "\t\t\t\t\t\tCA\n",
      "\t\t\t\t\tlatitude\n",
      "\t\t\t\t\t\t32.866492\n",
      "\t\t\t\t\tlongitude\n",
      "\t\t\t\t\t\t-117.222085\n",
      "\t\t\t\tFIPScounty\n",
      "\t\t\t\t\t6073\n",
      "\t\t\t\tuseCode\n",
      "\t\t\t\t\tCondominium\n",
      "\t\t\t\ttaxAssessmentYear\n",
      "\t\t\t\t\t2015\n",
      "\t\t\t\ttaxAssessment\n",
      "\t\t\t\t\t281602.0\n",
      "\t\t\t\tyearBuilt\n",
      "\t\t\t\t\t1981\n",
      "\t\t\t\tlotSizeSqFt\n",
      "\t\t\t\t\t43560\n",
      "\t\t\t\tfinishedSqFt\n",
      "\t\t\t\t\t1054\n",
      "\t\t\t\tbathrooms\n",
      "\t\t\t\t\t2.0\n",
      "\t\t\t\tbedrooms\n",
      "\t\t\t\t\t2\n",
      "\t\t\t\tlastSoldDate\n",
      "\t\t\t\t\t05/09/2002\n",
      "\t\t\t\tlastSoldPrice\n",
      "\t\t\t\t\t@currency\n",
      "\t\t\t\t\t\tUSD\n",
      "\t\t\t\t\t#text\n",
      "\t\t\t\t\t\t229500\n",
      "\t\t\t\tzestimate\n",
      "\t\t\t\t\tamount\n",
      "\t\t\t\t\t\t@currency\n",
      "\t\t\t\t\t\t\tUSD\n",
      "\t\t\t\t\t\t#text\n",
      "\t\t\t\t\t\t\t342452\n",
      "\t\t\t\t\tlast-updated\n",
      "\t\t\t\t\t\t01/22/2016\n",
      "\t\t\t\t\toneWeekChange\n",
      "\t\t\t\t\t\t@deprecated\n",
      "\t\t\t\t\t\t\ttrue\n",
      "\t\t\t\t\tvalueChange\n",
      "\t\t\t\t\t\t@duration\n",
      "\t\t\t\t\t\t\t30\n",
      "\t\t\t\t\t\t@currency\n",
      "\t\t\t\t\t\t\tUSD\n",
      "\t\t\t\t\t\t#text\n",
      "\t\t\t\t\t\t\t-1052\n",
      "\t\t\t\t\tvaluationRange\n",
      "\t\t\t\t\t\tlow\n",
      "\t\t\t\t\t\t\t@currency\n",
      "\t\t\t\t\t\t\t\tUSD\n",
      "\t\t\t\t\t\t\t#text\n",
      "\t\t\t\t\t\t\t\t325329\n",
      "\t\t\t\t\t\thigh\n",
      "\t\t\t\t\t\t\t@currency\n",
      "\t\t\t\t\t\t\t\tUSD\n",
      "\t\t\t\t\t\t\t#text\n",
      "\t\t\t\t\t\t\t\t359575\n",
      "\t\t\t\t\tpercentile\n",
      "\t\t\t\t\t\t0\n",
      "\t\t\t\trentzestimate\n",
      "\t\t\t\t\tamount\n",
      "\t\t\t\t\t\t@currency\n",
      "\t\t\t\t\t\t\tUSD\n",
      "\t\t\t\t\t\t#text\n",
      "\t\t\t\t\t\t\t1995\n",
      "\t\t\t\t\tlast-updated\n",
      "\t\t\t\t\t\t01/22/2016\n",
      "\t\t\t\t\toneWeekChange\n",
      "\t\t\t\t\t\t@deprecated\n",
      "\t\t\t\t\t\t\ttrue\n",
      "\t\t\t\t\tvalueChange\n",
      "\t\t\t\t\t\t@duration\n",
      "\t\t\t\t\t\t\t30\n",
      "\t\t\t\t\t\t@currency\n",
      "\t\t\t\t\t\t\tUSD\n",
      "\t\t\t\t\t\t#text\n",
      "\t\t\t\t\t\t\t95\n",
      "\t\t\t\t\tvaluationRange\n",
      "\t\t\t\t\t\tlow\n",
      "\t\t\t\t\t\t\t@currency\n",
      "\t\t\t\t\t\t\t\tUSD\n",
      "\t\t\t\t\t\t\t#text\n",
      "\t\t\t\t\t\t\t\t1696\n",
      "\t\t\t\t\t\thigh\n",
      "\t\t\t\t\t\t\t@currency\n",
      "\t\t\t\t\t\t\t\tUSD\n",
      "\t\t\t\t\t\t\t#text\n",
      "\t\t\t\t\t\t\t\t2274\n",
      "\t\t\t\tlocalRealEstate\n",
      "\t\t\t\t\tregion\n",
      "\t\t\t\t\t\t@name\n",
      "\t\t\t\t\t\t\tUniversity City\n",
      "\t\t\t\t\t\t@id\n",
      "\t\t\t\t\t\t\t118673\n",
      "\t\t\t\t\t\t@type\n",
      "\t\t\t\t\t\t\tneighborhood\n",
      "\t\t\t\t\t\tzindexValue\n",
      "\t\t\t\t\t\t\t534,000\n",
      "\t\t\t\t\t\tlinks\n",
      "\t\t\t\t\t\t\toverview\n",
      "\t\t\t\t\t\t\t\thttp://www.zillow.com/local-info/CA-San-Diego/University-City/r_118673/\n",
      "\t\t\t\t\t\t\tforSaleByOwner\n",
      "\t\t\t\t\t\t\t\thttp://www.zillow.com/university-city-san-diego-ca/fsbo/\n",
      "\t\t\t\t\t\t\tforSale\n",
      "\t\t\t\t\t\t\t\thttp://www.zillow.com/university-city-san-diego-ca/\n"
     ]
    }
   ],
   "source": [
    "pretty(data, indent = 0)"
   ]
  },
  {
   "cell_type": "code",
   "execution_count": 92,
   "metadata": {
    "collapsed": true
   },
   "outputs": [],
   "source": [
    "zpid = str(data['SearchResults:searchresults']['response']['results']['result']['zpid'])"
   ]
  },
  {
   "cell_type": "code",
   "execution_count": 74,
   "metadata": {
    "collapsed": false
   },
   "outputs": [],
   "source": [
    "main_page_link = data['SearchResults:searchresults']['response']['results']['result']['links']['graphsanddata'] # zillow main page\n",
    "home_type = data['SearchResults:searchresults']['response']['results']['result']['useCode'] # home type\n",
    "tax_assessment_year = data['SearchResults:searchresults']['response']['results']['result']['taxAssessmentYear'] # year of tax assessment\n",
    "tax_assessment = data['SearchResults:searchresults']['response']['results']['result']['taxAssessment'] #tax assessment\n",
    "bedrooms = data['SearchResults:searchresults']['response']['results']['result']['bedrooms']\n",
    "bathrooms = data['SearchResults:searchresults']['response']['results']['result']['bathrooms']\n",
    "zestimate = data['SearchResults:searchresults']['response']['results']['result']['zestimate']['amount']['#text']\n",
    "low_zestimate = data['SearchResults:searchresults']['response']['results']['result']['zestimate']['valuationRange']['low']['#text']\n",
    "high_zestimate = data['SearchResults:searchresults']['response']['results']['result']['zestimate']['valuationRange']['high']['#text']\n",
    "rent_zestimate = data['SearchResults:searchresults']['response']['results']['result']['rentzestimate']['amount']['#text']\n",
    "rent_high = data['SearchResults:searchresults']['response']['results']['result']['rentzestimate']['valuationRange']['high']['#text']\n",
    "rent_low = data['SearchResults:searchresults']['response']['results']['result']['rentzestimate']['valuationRange']['low']['#text']"
   ]
  },
  {
   "cell_type": "markdown",
   "metadata": {
    "collapsed": false
   },
   "source": [
    "## GetRateSummary"
   ]
  },
  {
   "cell_type": "markdown",
   "metadata": {},
   "source": [
    "1. Thirty Year Rate\n",
    "2. Fifteen Year Rate"
   ]
  },
  {
   "cell_type": "code",
   "execution_count": 101,
   "metadata": {
    "collapsed": true
   },
   "outputs": [],
   "source": [
    "address = '8332 Regents Rd UNIT 2B'.replace(' ','+')\n",
    "city = 'San Diego'\n",
    "state = 'CA'\n",
    "zip_code = '92122'\n",
    "link = 'http://www.zillow.com/webservice/GetRateSummary.htm?zws-id=%s&state=%s'%(zws_id,state)"
   ]
  },
  {
   "cell_type": "code",
   "execution_count": 102,
   "metadata": {
    "collapsed": true
   },
   "outputs": [],
   "source": [
    "file = urllib2.urlopen(link)\n",
    "#file = urllib2.urlopen('http://www.zillow.com/webservice/GetDeepSearchResults.htm?zws-id=X1-ZWz1f3zo3l3pjf_60bkd&address=2114+Bigelow+Ave&citystatezip=Seattle%2C+WA')\n",
    "data = file.read()\n",
    "file.close()\n",
    "\n",
    "data = xmltodict.parse(data)"
   ]
  },
  {
   "cell_type": "code",
   "execution_count": 103,
   "metadata": {
    "collapsed": false
   },
   "outputs": [
    {
     "name": "stdout",
     "output_type": "stream",
     "text": [
      "RateSummary:rateSummary\n",
      "\t@xsi:schemaLocation\n",
      "\t\thttp://www.zillow.com/static/xsd/RateSummary.xsd http://www.zillowstatic.com/vstatic/272e7d3/static/xsd/RateSummary.xsd\n",
      "\t@xmlns:RateSummary\n",
      "\t\thttp://www.zillow.com/static/xsd/RateSummary.xsd\n",
      "\t@xmlns:xsi\n",
      "\t\thttp://www.w3.org/2001/XMLSchema-instance\n",
      "\trequest\n",
      "\t\tNone\n",
      "\tmessage\n",
      "\t\ttext\n",
      "\t\t\tRequest successfully processed\n",
      "\t\tcode\n",
      "\t\t\t0\n",
      "\tresponse\n",
      "\t\ttoday\n",
      "\t\t\trate\n",
      "\t\t\t\t[OrderedDict([(u'@count', u'20323'), (u'@loanType', u'thirtyYearFixed'), ('#text', u'3.62')]), OrderedDict([(u'@count', u'18848'), (u'@loanType', u'fifteenYearFixed'), ('#text', u'2.81')]), OrderedDict([(u'@count', u'17821'), (u'@loanType', u'fiveOneARM'), ('#text', u'2.82')])]\n",
      "\t\tlastWeek\n",
      "\t\t\trate\n",
      "\t\t\t\t[OrderedDict([(u'@count', u'1346575'), (u'@loanType', u'thirtyYearFixed'), ('#text', u'3.63')]), OrderedDict([(u'@count', u'1338798'), (u'@loanType', u'fifteenYearFixed'), ('#text', u'2.83')]), OrderedDict([(u'@count', u'1166397'), (u'@loanType', u'fiveOneARM'), ('#text', u'2.85')])]\n"
     ]
    }
   ],
   "source": [
    "pretty(data, indent = 0)"
   ]
  },
  {
   "cell_type": "code",
   "execution_count": 109,
   "metadata": {
    "collapsed": false
   },
   "outputs": [
    {
     "data": {
      "text/plain": [
       "[OrderedDict([(u'@count', u'20323'), (u'@loanType', u'thirtyYearFixed'), ('#text', u'3.62')]),\n",
       " OrderedDict([(u'@count', u'18848'), (u'@loanType', u'fifteenYearFixed'), ('#text', u'2.81')]),\n",
       " OrderedDict([(u'@count', u'17821'), (u'@loanType', u'fiveOneARM'), ('#text', u'2.82')])]"
      ]
     },
     "execution_count": 109,
     "metadata": {},
     "output_type": "execute_result"
    }
   ],
   "source": [
    "data['RateSummary:rateSummary']['response']['today']['rate']"
   ]
  },
  {
   "cell_type": "code",
   "execution_count": 112,
   "metadata": {
    "collapsed": false
   },
   "outputs": [],
   "source": [
    "thirty_year_rate = data['RateSummary:rateSummary']['response']['today']['rate'][0]['#text']\n",
    "fifteen_year_rate = data['RateSummary:rateSummary']['response']['today']['rate'][1]['#text']"
   ]
  },
  {
   "cell_type": "markdown",
   "metadata": {},
   "source": [
    "## GetChart "
   ]
  },
  {
   "cell_type": "code",
   "execution_count": 128,
   "metadata": {
    "collapsed": false
   },
   "outputs": [],
   "source": [
    "address = '8332 Regents Rd UNIT 2B'.replace(' ','+')\n",
    "city = 'San Diego'\n",
    "state = 'CA'\n",
    "zip_code = '92122'\n",
    "link = 'http://www.zillow.com/webservice/GetChart.htm?zws-id=%s&unit-type=dollar&zpid=%s&width=300&height=150&chartDuration=10years'%(zws_id,zpid)"
   ]
  },
  {
   "cell_type": "code",
   "execution_count": 129,
   "metadata": {
    "collapsed": true
   },
   "outputs": [],
   "source": [
    "file = urllib2.urlopen(link)\n",
    "#file = urllib2.urlopen('http://www.zillow.com/webservice/GetDeepSearchResults.htm?zws-id=X1-ZWz1f3zo3l3pjf_60bkd&address=2114+Bigelow+Ave&citystatezip=Seattle%2C+WA')\n",
    "data = file.read()\n",
    "file.close()\n",
    "\n",
    "data = xmltodict.parse(data)"
   ]
  },
  {
   "cell_type": "code",
   "execution_count": 130,
   "metadata": {
    "collapsed": false
   },
   "outputs": [
    {
     "name": "stdout",
     "output_type": "stream",
     "text": [
      "Chart:chart\n",
      "\t@xsi:schemaLocation\n",
      "\t\thttp://www.zillow.com/static/xsd/Chart.xsd http://www.zillowstatic.com/vstatic/272e7d3/static/xsd/Chart.xsd\n",
      "\t@xmlns:xsi\n",
      "\t\thttp://www.w3.org/2001/XMLSchema-instance\n",
      "\t@xmlns:Chart\n",
      "\t\thttp://www.zillow.com/static/xsd/Chart.xsd\n",
      "\trequest\n",
      "\t\tzpid\n",
      "\t\t\t16836479\n",
      "\t\tunit-type\n",
      "\t\t\tdollar\n",
      "\t\twidth\n",
      "\t\t\t300\n",
      "\t\theight\n",
      "\t\t\t150\n",
      "\tmessage\n",
      "\t\ttext\n",
      "\t\t\tRequest successfully processed\n",
      "\t\tcode\n",
      "\t\t\t0\n",
      "\tresponse\n",
      "\t\turl\n",
      "\t\t\thttp://www.zillow.com/app?chartDuration=10years&chartType=partner&height=150&page=webservice%2FGetChart&service=chart&width=300&zpid=16836479\n",
      "\t\tgraphsanddata\n",
      "\t\t\thttp://www.zillow.com/homedetails/8332-Regents-Rd-UNIT-2B-San-Diego-CA-92122/16836479_zpid/#charts-and-data\n"
     ]
    }
   ],
   "source": [
    "pretty(data, indent = 0)"
   ]
  },
  {
   "cell_type": "code",
   "execution_count": 132,
   "metadata": {
    "collapsed": false
   },
   "outputs": [],
   "source": [
    "chart_link = str(data['Chart:chart']['response']['url'])"
   ]
  },
  {
   "cell_type": "code",
   "execution_count": 135,
   "metadata": {
    "collapsed": false
   },
   "outputs": [
    {
     "data": {
      "text/plain": [
       "True"
      ]
     },
     "execution_count": 135,
     "metadata": {},
     "output_type": "execute_result"
    }
   ],
   "source": [
    "#webbrowser.open(chart_link)"
   ]
  }
 ],
 "metadata": {
  "kernelspec": {
   "display_name": "Python 2",
   "language": "python",
   "name": "python2"
  },
  "language_info": {
   "codemirror_mode": {
    "name": "ipython",
    "version": 2
   },
   "file_extension": ".py",
   "mimetype": "text/x-python",
   "name": "python",
   "nbconvert_exporter": "python",
   "pygments_lexer": "ipython2",
   "version": "2.7.7"
  }
 },
 "nbformat": 4,
 "nbformat_minor": 0
}
